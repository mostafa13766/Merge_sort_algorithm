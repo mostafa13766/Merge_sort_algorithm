{
 "cells": [
  {
   "cell_type": "markdown",
   "id": "f07891e3",
   "metadata": {},
   "source": [
    "# Merge-sort algorithm \n",
    "---\n",
    "\n",
    "### Coded by: Mostafa Yazdanpanah\n",
    "\n",
    "[My Linkdin Profile](https://www.linkedin.com/in/mostafa-yazdanpanah-2511a6243/)\n",
    "\n",
    "**Email: yazdanpanah.m@sbmu.ac.ir**\n",
    "\n",
    "---\n",
    "\n",
    "#### There are many ways to solve this problem, lets begin with defining the problem and what we want to do. If you are famililar with coding in python, you must saw we sort the list simply by using **list.sort()** method. In this notebook we want to build an algorithm that inputs an unordered list and returns an increasing ordered list.\n",
    "\n",
    "#### We can solve this problem in many ways but what we gonna do is using \"divide and concure\" method. This means first we divide the unordered list into two diffrent lists, then we will sort each of them and finally we merge these two sublist.\n",
    "\n",
    "#### Why we use this method? because this method is computationally cheaper than other methods.\n"
   ]
  },
  {
   "cell_type": "markdown",
   "id": "106cff94",
   "metadata": {},
   "source": [
    "# 1- Dividing the list into two sublist\n",
    "---"
   ]
  },
  {
   "cell_type": "code",
   "execution_count": 1,
   "id": "f35ad571",
   "metadata": {},
   "outputs": [],
   "source": [
    "def dividing (array:list):\n",
    "    \"\"\"\n",
    "    It takes a list as a paramether and returns two divided sublist from it.\n",
    "    \n",
    "    \"\"\"\n",
    "    # split location is the place that we split our list\n",
    "    # if the length of the list is an odd number then by convering the len(array)/2 to an Int type we will have two sublist\n",
    "    # that one of them has one more item than another.\n",
    "    split_loc = int(len(array)/2) \n",
    "    \n",
    "    # spliting the list\n",
    "    sublist_1 = array[0:split_loc] \n",
    "    sublist_2 = array[split_loc:]\n",
    "    return sublist_1,sublist_2"
   ]
  },
  {
   "cell_type": "markdown",
   "id": "4878182c",
   "metadata": {},
   "source": [
    "## Trying our first step with 2 diffrent examples\n",
    "---"
   ]
  },
  {
   "cell_type": "code",
   "execution_count": 2,
   "id": "bd30b391",
   "metadata": {},
   "outputs": [
    {
     "name": "stdout",
     "output_type": "stream",
     "text": [
      "a: [1, 2, 3]\n",
      "b: [4, 5, 6]\n",
      "c: [1, 2]\n",
      "d: [3, 4, 5]\n"
     ]
    }
   ],
   "source": [
    "# Tesitng our function on two diffrent example\n",
    "example1 = [1,2,3,4,5,6] # n = 6 (Testing on even number)\n",
    "example2 = [1,2,3,4,5] # n = 5 (Testing on odd number)\n",
    "a,b = dividing(example1)\n",
    "c,d = dividing(example2)\n",
    "print(f\"a: {a}\\nb: {b}\\nc: {c}\\nd: {d}\")"
   ]
  },
  {
   "cell_type": "markdown",
   "id": "b7bb6e4f",
   "metadata": {},
   "source": [
    "# 2- Sorting each subclass\n",
    "---"
   ]
  },
  {
   "cell_type": "code",
   "execution_count": 3,
   "id": "adb537c4",
   "metadata": {},
   "outputs": [],
   "source": [
    "def sorting (sub_arr:list):\n",
    "    \"\"\"\n",
    "    This function will recieve a list and returns a sorted lise in increasing order.\n",
    "    \"\"\"\n",
    "    for pointer in range(len(sub_arr)):\n",
    "        min_item = sub_arr[pointer]\n",
    "        for item in sub_arr[pointer:]:\n",
    "            if item < min_item:\n",
    "                min_item = item\n",
    "        sub_arr[sub_arr.index(min_item)] = sub_arr[pointer]\n",
    "        sub_arr[pointer] = min_item\n",
    "    return sub_arr\n"
   ]
  },
  {
   "cell_type": "markdown",
   "id": "fb63e082",
   "metadata": {},
   "source": [
    "## Trying our second step with an example\n",
    "---"
   ]
  },
  {
   "cell_type": "code",
   "execution_count": 4,
   "id": "700e05d2",
   "metadata": {},
   "outputs": [
    {
     "data": {
      "text/plain": [
       "[1, 2, 3, 4, 6, 9, 10]"
      ]
     },
     "execution_count": 4,
     "metadata": {},
     "output_type": "execute_result"
    }
   ],
   "source": [
    "# Tesitng our function on an example\n",
    "sorting([2,4,1,6,10,3,9])"
   ]
  },
  {
   "cell_type": "markdown",
   "id": "4c05455f",
   "metadata": {},
   "source": [
    "# 3- Merging two classes"
   ]
  },
  {
   "cell_type": "code",
   "execution_count": 5,
   "id": "37f4c550",
   "metadata": {},
   "outputs": [],
   "source": [
    "def merge (arr1:list,arr2:list):\n",
    "    \"\"\"\n",
    "    This function takes two ordered sub_list as paramethers and returns a merged list form them.\n",
    "    \"\"\"\n",
    "    final_result = []\n",
    "    i = 0\n",
    "    j = 0\n",
    "    while i != (len(arr1)) and j != (len(arr2)):\n",
    "        if arr1[i] < arr2[j]:\n",
    "            final_result.append(arr1[i])\n",
    "            i+=1\n",
    "        else:\n",
    "            final_result.append(arr2[j])\n",
    "            j+=1\n",
    "\n",
    "    if i == (len(arr1)):\n",
    "        final_result.append(arr2[-1])\n",
    "    else:\n",
    "        final_result.append(arr1[-1])\n",
    "\n",
    "    \n",
    "    return final_result\n",
    "        "
   ]
  },
  {
   "cell_type": "markdown",
   "id": "8913d952",
   "metadata": {},
   "source": [
    "## Trying our third step with an example\n",
    "---"
   ]
  },
  {
   "cell_type": "code",
   "execution_count": 7,
   "id": "89c19e4d",
   "metadata": {},
   "outputs": [
    {
     "data": {
      "text/plain": [
       "[2, 3, 5, 8, 9, 10, 11]"
      ]
     },
     "execution_count": 7,
     "metadata": {},
     "output_type": "execute_result"
    }
   ],
   "source": [
    "# Tesitng our function on two diffrent example\n",
    "merge([1, 2, 3,7],[0,4, 5, 6]) # two sublists have same length\n",
    "merge([3,5,10],[2,8,9,11]) # two sublists have diffrent length"
   ]
  },
  {
   "cell_type": "markdown",
   "id": "8b78aaf7",
   "metadata": {},
   "source": [
    "# Put them all together \n",
    "---"
   ]
  },
  {
   "cell_type": "code",
   "execution_count": 71,
   "id": "aa7c446a",
   "metadata": {},
   "outputs": [],
   "source": [
    "def merge_sort(array:list):\n",
    "    \"\"\"\n",
    "    This function takes an unordered list and with using 3 predefiend functions,\n",
    "    will return an list in increasing order.\n",
    "    \"\"\"\n",
    "    arr1,arr2 = dividing(array)\n",
    "    arr1_sort , arr2_sort = sorting(arr1) , sorting(arr2)\n",
    "    \n",
    "    return merge(arr1_sort , arr2_sort)"
   ]
  },
  {
   "cell_type": "code",
   "execution_count": 72,
   "id": "3777a269",
   "metadata": {},
   "outputs": [
    {
     "data": {
      "text/plain": [
       "[1, 2, 3, 4, 9]"
      ]
     },
     "execution_count": 72,
     "metadata": {},
     "output_type": "execute_result"
    }
   ],
   "source": [
    "# Tesitng our function\n",
    "merge_sort([2,4,1,7,9,3])"
   ]
  },
  {
   "cell_type": "code",
   "execution_count": 83,
   "id": "15ed8f80",
   "metadata": {},
   "outputs": [],
   "source": [
    "class sort_merge:\n",
    "    \n",
    "    def __init__(self,arr:list):\n",
    "        \n",
    "        self.arr = arr\n",
    "\n",
    "    def __dividing (self,array:list):\n",
    "        \n",
    "        sublist_1 = array[0:int(len(array)/2)]\n",
    "        sublist_2 = array[int(len(array)/2):]\n",
    "        return sublist_1,sublist_2\n",
    "    \n",
    "    def __sorting (self,sub_arr:list):\n",
    "        \n",
    "        for pointer in range(len(sub_arr)):\n",
    "            min_item = sub_arr[pointer]\n",
    "            for item in sub_arr[pointer:]:\n",
    "                if item < min_item:\n",
    "                    min_item = item\n",
    "            sub_arr[sub_arr.index(min_item)] = sub_arr[pointer]\n",
    "            sub_arr[pointer] = min_item\n",
    "        return sub_arr\n",
    "\n",
    "    def __merge (self,arr1:list,arr2:list):\n",
    "        \n",
    "        final_result = []\n",
    "        i = 0\n",
    "        j = 0\n",
    "        while i != (len(arr1)) and j != (len(arr2)):\n",
    "            if arr1[i] < arr2[j]:\n",
    "                final_result.append(arr1[i])\n",
    "                i+=1\n",
    "            else:\n",
    "                final_result.append(arr2[j])\n",
    "                j+=1\n",
    "\n",
    "        if i == (len(arr1)):\n",
    "            final_result.append(arr2[-1])\n",
    "        else:\n",
    "            final_result.append(arr1[-1])\n",
    "            \n",
    "        return final_result\n",
    "        \n",
    "    def merge_sort(self):\n",
    "        \n",
    "        arr1,arr2 = self.__dividing(self.arr)\n",
    "        arr1_sort , arr2_sort = self.__sorting(arr1) , self.__sorting(arr2)\n",
    "        return self.__merge(arr1_sort , arr2_sort)\n",
    "        \n"
   ]
  },
  {
   "cell_type": "code",
   "execution_count": 84,
   "id": "e50cc00c",
   "metadata": {},
   "outputs": [],
   "source": [
    "obj = sort_merge([2,4,1,7,9,3])"
   ]
  },
  {
   "cell_type": "code",
   "execution_count": 85,
   "id": "5ef2e4c1",
   "metadata": {},
   "outputs": [
    {
     "data": {
      "text/plain": [
       "[1, 2, 3, 4, 9]"
      ]
     },
     "execution_count": 85,
     "metadata": {},
     "output_type": "execute_result"
    }
   ],
   "source": [
    "obj.merge_sort()"
   ]
  },
  {
   "cell_type": "code",
   "execution_count": null,
   "id": "ae06de83",
   "metadata": {},
   "outputs": [],
   "source": []
  }
 ],
 "metadata": {
  "kernelspec": {
   "display_name": "Python 3 (ipykernel)",
   "language": "python",
   "name": "python3"
  },
  "language_info": {
   "codemirror_mode": {
    "name": "ipython",
    "version": 3
   },
   "file_extension": ".py",
   "mimetype": "text/x-python",
   "name": "python",
   "nbconvert_exporter": "python",
   "pygments_lexer": "ipython3",
   "version": "3.9.12"
  }
 },
 "nbformat": 4,
 "nbformat_minor": 5
}
